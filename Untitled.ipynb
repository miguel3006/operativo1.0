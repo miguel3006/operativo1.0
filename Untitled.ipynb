{
 "cells": [
  {
   "cell_type": "code",
   "execution_count": null,
   "metadata": {
    "collapsed": true
   },
   "outputs": [],
   "source": [
    "de acuerdo con la definicion de la derivada centrada y para \n",
    "f(x)=4x^4-2x^2+7x\n",
    "¿cual seria el calculo de la primera derivada dado que \n",
    "x{i-1}=0,x{i}=0.1,x{i+1}=0.2?\n",
    "rta=6.632\n"
   ]
  },
  {
   "cell_type": "code",
   "execution_count": 2,
   "metadata": {
    "collapsed": false
   },
   "outputs": [
    {
     "name": "stdout",
     "output_type": "stream",
     "text": [
      "6.632\n"
     ]
    }
   ],
   "source": [
    "def f(x):\n",
    "    return 4*x**4 - 2*x**2 + 7*x\n",
    "\n",
    "def deriv_centrada(x,h):\n",
    "    fdev = ((f(x+h) - f(x-h))/(2*h))\n",
    "    return fdev\n",
    "\n",
    "print(deriv_centrada(0.1,0.1))"
   ]
  },
  {
   "cell_type": "code",
   "execution_count": null,
   "metadata": {
    "collapsed": true
   },
   "outputs": [],
   "source": [
    "calcule e^x-x para x=2.5 mediante interpolacion cuadratica tomando \n",
    "x0=1  f(x0)=e^1-1,\n",
    "x1=2  f(x1)=e^2-2,\n",
    "x2=3  f(x2)=e^3-3\n",
    "rta=10.234083"
   ]
  },
  {
   "cell_type": "code",
   "execution_count": 15,
   "metadata": {
    "collapsed": false
   },
   "outputs": [
    {
     "name": "stdout",
     "output_type": "stream",
     "text": [
      "10.234083191835982\n"
     ]
    }
   ],
   "source": [
    "import math\n",
    "b0=0;\n",
    "b1=0;\n",
    "b2=0;\n",
    "l0=(math.exp(1))-1\n",
    "l4=(math.exp(2))-2\n",
    "l5=(math.exp(3))-3 \n",
    "b0=l0\n",
    "b1=(l4-l0)/(2-1)\n",
    "b2=(((l5-l4)/(3-2))-b1)/(3-1)\n",
    "l2=b0+b1*(2.5-1)+b2*(2.5-1)*(2.5-2)\n",
    "\n",
    "print(l2)"
   ]
  },
  {
   "cell_type": "code",
   "execution_count": null,
   "metadata": {
    "collapsed": true
   },
   "outputs": [],
   "source": [
    "calcular e^x para x=5 mediante interpolacion lineal tomando \n",
    "x0=4, f(x0)=e^4 y \n",
    "x1=6  f(x1)=e^6\n",
    "rta=229.013472\n"
   ]
  },
  {
   "cell_type": "code",
   "execution_count": 2,
   "metadata": {
    "collapsed": false
   },
   "outputs": [
    {
     "name": "stdout",
     "output_type": "stream",
     "text": [
      "229.01347176293967\n"
     ]
    }
   ],
   "source": [
    "import math\n",
    "l1=math.exp(4)#4  \n",
    "l6=math.exp(6)#6  \n",
    "l3=l1+((l6-l1)/(6-4))*(5-4)\n",
    "print(l3)\n"
   ]
  },
  {
   "cell_type": "code",
   "execution_count": null,
   "metadata": {
    "collapsed": true
   },
   "outputs": [],
   "source": [
    "¿cual es el coeficiente de correlacion entre el precio colombiano \n",
    "del \n",
    "dolar (D) y el euro (E) de acuerdo con el presio de los ultimmos 31\n",
    "dias?\n",
    "d=[3073.23,3073.23,3073.23,3069.24,3108.70,3082.04,3047.31,3047.31,\n",
    "   3047.31,3086.82,3074.35,3099.75,3099.75,3101.10,3101.10,3101.10,\n",
    "   3142.11,3131.95,3166.67,3149.12,3179.22,3179.22,3179.22,3287.03,\n",
    "   3287.03,3294.02,3259.56,3299.36,3299.36,3299.36,3356.00]\n",
    "e=[3299.00,3299.00,3299.00,3299.00,3274.00,3310.50,3318.38,3265.10,\n",
    "   3265.10,3265.10,3266.27,3284.49,3265.00,3285.65,3289.14,3289.14,\n",
    "   3289.14,3322.19,3318.14,3360.00,3425.13,3480.12,3480.12,3480.12,\n",
    "   3588.51,3588.51,3614.41,3561.07,3664.00,3664.00,3664.00]\n",
    "\n",
    "rta=0.94194"
   ]
  },
  {
   "cell_type": "code",
   "execution_count": 16,
   "metadata": {
    "collapsed": false
   },
   "outputs": [
    {
     "name": "stdout",
     "output_type": "stream",
     "text": [
      "correlacion:  0.9419443553465161\n"
     ]
    }
   ],
   "source": [
    "import numpy as np\n",
    "import math\n",
    "import pylab as plt\n",
    "\n",
    "aa=[3073.23,3073.23,3073.23,3069.24,3108.70,3082.04,3047.31,3047.31,3047.31,3086.82,3074.35,3099.75,3099.75,3101.10,3101.10,3101.10,\n",
    "   3142.11,3131.95,3166.67,3149.12,3179.22,3179.22,3179.22,3287.03,3287.03,3294.02,3259.56,3299.36,3299.36,3299.36,3356.00]\n",
    "bb=[3299.00,3299.00,3299.00,3299.00,3274.00,3310.50,3318.38,3265.10,3265.10,3265.10,3266.27,3284.49,3265.00,3285.65,3289.14,3289.14,\n",
    "   3289.14,3322.19,3318.14,3360.00,3425.13,3480.12,3480.12,3480.12,3588.51,3588.51,3614.41,3561.07,3664.00,3664.00,3664.00]\n",
    "sumaa=0; sumab=0;sumaab=0; sumaaa=0; sumabb=0; \n",
    "for h in range(0,31,1):\n",
    "    sumaa=sumaa+aa[h]\n",
    "    sumab=sumab+bb[h] \n",
    "    sumaab=sumaab+(aa[h]*bb[h])  \n",
    "    sumaaa=sumaaa+(aa[h]*aa[h]) \n",
    "    sumabb=sumabb+(bb[h]*bb[h])\n",
    "pp=math.sqrt((31*sumaaa)-(sumaa*sumaa))\n",
    "qq=math.sqrt((31*sumabb)-(sumab*sumab))\n",
    "r=((31*sumaab)-(sumaa*sumab))/(pp*qq)\n",
    "print (\"correlacion: \", r )"
   ]
  },
  {
   "cell_type": "code",
   "execution_count": null,
   "metadata": {
    "collapsed": true
   },
   "outputs": [],
   "source": [
    "usando la regla de cramer hallar x1,x2,x3 resolviendo el siguente sistema de ecuaciones\n",
    "0.4x1+0.12x2-1.3x3=0.05\n",
    "0.01x1-0.24x2+2x3=-0.32\n",
    "0.3x1+1.6x2+0.3x3=0.15\n",
    "rta=x1=-0.32601816\n",
    "    x2=0.17782101\n",
    "    x3=-0.12236057\n"
   ]
  },
  {
   "cell_type": "code",
   "execution_count": 21,
   "metadata": {
    "collapsed": false
   },
   "outputs": [
    {
     "name": "stdout",
     "output_type": "stream",
     "text": [
      "X1 = -0.32601815823605707\n",
      "X2 = 0.17782101167315173\n",
      "X3 = -0.12236057068741893\n"
     ]
    }
   ],
   "source": [
    "a11,a12,a13,b1=0.4,0.12,-1.3,0.05\n",
    "a21,a22,a23,b2=0.1,-0.24,2,-0.32\n",
    "a31,a32,a33,b3=0.3,1.6,0.3,0.15\n",
    "X=[]\n",
    "A1,A2,A3=(a22*a33-a32*a23),(a21*a33-a31*a23),(a21*a32-a31*a22)\n",
    "X11,X12,X13=(a22*a33-a32*a23),(b2*a33-b3*a23),(b2*a32-b3*a22)\n",
    "X21,X22,X23=(b2*a33-b3*a23),(a21*a33-a31*a23),(a21*b3-a31*b2)\n",
    "X31,X32,X33=(a22*b3-a32*b2),(a21*b3-a31*b2),(a21*a32-a31*a22)\n",
    "Determinante=(a11*A1-a12*A2+a13*A3)\n",
    "DeterminanteX1=(b1*X11-a12*X12+a13*X13)\n",
    "DeterminanteX2=(a11*X21-b1*X22+a13*X23)\n",
    "DeterminanteX3=(a11*X31-a12*X32+b1*X33)\n",
    "print (\"X1 =\",(DeterminanteX1/Determinante));\n",
    "print (\"X2 =\",(DeterminanteX2/Determinante));\n",
    "print (\"X3 =\",(DeterminanteX3/Determinante));"
   ]
  },
  {
   "cell_type": "code",
   "execution_count": null,
   "metadata": {
    "collapsed": true
   },
   "outputs": [],
   "source": [
    "si se representa la velocidad de un auto movil en notacion \n",
    "cientifica\n",
    "7.290*10^4\n",
    "rta=4"
   ]
  },
  {
   "cell_type": "code",
   "execution_count": null,
   "metadata": {
    "collapsed": true
   },
   "outputs": [],
   "source": [
    "dada la funcion f(x)=x^3 ¿cual es el valor real y la aproximacion\n",
    "de la serie de taylor de primer orden para h =0.125, cuando se \n",
    "evalua para ambas (funcion y aproximacion) en x+h, donde x=1?\n",
    "\n",
    "rta=1.423828125 y 1.375"
   ]
  },
  {
   "cell_type": "code",
   "execution_count": 3,
   "metadata": {
    "collapsed": false
   },
   "outputs": [
    {
     "name": "stdout",
     "output_type": "stream",
     "text": [
      "funcion =  1.423828125\n",
      "Aprox taylor =  1.375\n"
     ]
    }
   ],
   "source": [
    "def f1(x):\n",
    "    return x**3\n",
    "\n",
    "def f2(x):\n",
    "    return 3*(x**2)\n",
    "\n",
    "x = 1.0\n",
    "h = 0.125\n",
    "\n",
    "print(\"funcion = \",f1(x+h))\n",
    "print(\"Aprox taylor = \",f1(x)+f2(x)*h)"
   ]
  },
  {
   "cell_type": "code",
   "execution_count": null,
   "metadata": {
    "collapsed": true
   },
   "outputs": [],
   "source": [
    "si el valor es 43.4322629 y el valor aproximado es 43.02498 \n",
    "¿cual es el error verdadero?\n",
    "rta=0.4072829"
   ]
  },
  {
   "cell_type": "code",
   "execution_count": 1,
   "metadata": {
    "collapsed": false
   },
   "outputs": [
    {
     "name": "stdout",
     "output_type": "stream",
     "text": [
      "0.40728289999999845\n"
     ]
    }
   ],
   "source": [
    "Et = 43.4322629-43.02498 # Et = valor verdadero - valor aproximado\n",
    "print(Et)"
   ]
  },
  {
   "cell_type": "code",
   "execution_count": null,
   "metadata": {
    "collapsed": true
   },
   "outputs": [],
   "source": [
    "dada la ecuacion f(x)=e^x-2-x ¿cual es el valor de la raiz \n",
    "encontrado usando el metodo de newton-raphson cuando x0=-7 y x0=2 \n",
    "respectivamente? usando 6 cifras significativas. Nota: tener como \n",
    "criterio de parada el error tolerado. \n",
    "rta=-1.84141 y 1.14619"
   ]
  },
  {
   "cell_type": "code",
   "execution_count": 11,
   "metadata": {
    "collapsed": false
   },
   "outputs": [
    {
     "name": "stdout",
     "output_type": "stream",
     "text": [
      "Iteración: 3 Raiz (Newton-Raphson):  -1.841406016156538\n",
      "Iteración: 5 Raiz (Newton-Raphson):  1.1461932206388472\n"
     ]
    }
   ],
   "source": [
    "import math\n",
    "def f(x):\n",
    "    fval = math.exp(x)-2-x\n",
    "    return fval\n",
    "def fd(x):\n",
    "    fdval = math.exp(x)-1\n",
    "    if fdval == 0:\n",
    "        fdval = 1.0*10**(-6)\n",
    "    return fdval\n",
    "nit = 3\n",
    "it = 0\n",
    "xi = -7\n",
    "while it<=nit:\n",
    "    if it == nit:\n",
    "        print('Iteración: '+str(it)+' Raiz (Newton-Raphson): ',xi)\n",
    "    xi = xi-(f(xi)/fd(xi))\n",
    "    if xi==0:\n",
    "        xi=1.0*10**(-6)\n",
    "    it=it+1\n",
    "nit = 5\n",
    "it = 0\n",
    "xi1 = 2\n",
    "while it<=nit:\n",
    "    if it == nit:\n",
    "        print('Iteración: '+str(it)+' Raiz (Newton-Raphson): ',xi1)\n",
    "    xi1 = xi1-(f(xi1)/fd(xi1))\n",
    "    if xi1==0:\n",
    "        xi1=1.0*10**(-6)\n",
    "    it=it+1"
   ]
  },
  {
   "cell_type": "code",
   "execution_count": null,
   "metadata": {
    "collapsed": true
   },
   "outputs": [],
   "source": [
    "concidere el presio del dolar en pesos colombianos de los ultimos\n",
    "31 dias (ver grafica y vector de valores) y use un modelo de \n",
    "regresion lineal para predecir su tendencia. de acuerdo con su \n",
    "modelo, ¿cual seria el valor del dolar el dia 35?. \n",
    "d=[3073.23,3073.23,3073.23,3069.24,3108.70,3082.04,3047.31,3047.31,\n",
    "   3047.31,3086.82,3074.35,3099.75,3099.75,3101.10,3101.10,3101.10,\n",
    "   3142.11,3131.95,3166.67,3149.12,3179.22,3179.22,3179.22,3287.03,\n",
    "   3287.03,3294.02,3259.56,3299.36,3299.36,3299.36,3356.00]\n",
    "rta=3334.45"
   ]
  },
  {
   "cell_type": "code",
   "execution_count": 22,
   "metadata": {
    "collapsed": false
   },
   "outputs": [
    {
     "name": "stdout",
     "output_type": "stream",
     "text": [
      "3334.45134274\n"
     ]
    }
   ],
   "source": [
    "import numpy as np\n",
    "import math\n",
    "import pylab as plt\n",
    "A = np.array([[1,3073.23],[2,3073.23],[3,3073.23],[4,3069.24],[5,3108.70],[6,3082.04],[7,3047.31],[8,3047.31],[9,3047.31], [10,3086.82],[11,3074.35],[12,3099.75],[13,3099.75],[14,3101.10],[15,3101.10],[16,3101.10],[17,3142.11],[18,3131.95],[19,3166.67],[20,3149.12],[21,3179.22],[22,3179.22],[23,3179.22],[24,3287.03],[25,3287.03],[26,3294.02],[27,3259.56],[28,3299.36],[29,3299.36],[30,3299.36],[31,3356.00]])\n",
    "x=[]\n",
    "lo=0 \n",
    "x2=0\n",
    "li2=0\n",
    "for l in range(2):\n",
    "    m=(A.size)/2\n",
    "    rr=int(m)\n",
    "    for k in range(rr):\n",
    "        lo=A[k,l]+lo\n",
    "        if l==0:\n",
    "            li2=(A[k,l]**2)+li2\n",
    "        if l==1:\n",
    "            x2=A[k,0]*A[k,1]+x2\n",
    "        if k==(rr-1):\n",
    "            x.append(lo)\n",
    "            if l==1:\n",
    "                x.append(x2)\n",
    "                x.append(li2)\n",
    "            lo=0\n",
    "a2=((rr*x[3])-(x[0])**2)\n",
    "a1=((rr*x[2])-(x[0]*x[1]))/((rr*x[3])-(x[0])**2)\n",
    "a0=(x[1]/rr)-a1*(x[0]/rr)\n",
    "for k in range(36):\n",
    "    y=a0+a1*k\n",
    "print(y)"
   ]
  },
  {
   "cell_type": "code",
   "execution_count": null,
   "metadata": {
    "collapsed": true
   },
   "outputs": [],
   "source": [
    "cual es el valor del determinante para la siguiente matriz de \n",
    "tamaño 4x4 \n",
    "a=[[2.4,9.2,2.3,5.7],\n",
    "   [1.9,4.2,8.4,11.7],\n",
    "   [0.9,1.5,0.25,-12.1],\n",
    "   [13.2,7.8,3.4,0.25]] \n",
    "rta =9356.82305"
   ]
  },
  {
   "cell_type": "code",
   "execution_count": 29,
   "metadata": {
    "collapsed": false
   },
   "outputs": [
    {
     "name": "stdout",
     "output_type": "stream",
     "text": [
      "determinante = 9356.823049999999\n"
     ]
    }
   ],
   "source": [
    "a11,a12,a13,b1=2.4,9.2,2.3,5.7\n",
    "a21,a22,a23,b2=1.9,4.2,8.4,11.7\n",
    "a31,a32,a33,b3=0.9,1.5,0.25,-12.1\n",
    "a41,a42,a43,b4=13.2,7.8,3.4,0.25\n",
    "X=[]\n",
    "A1=((a22*a33*b4+a23*b3*a42+a32*a43*b2)-(b2*a33*a42+b3*a43*a22+b4*a23*a32)\n",
    "A2=((a12*a33*b4+a13*b3*a42+a32*a43*b1)-(b1*a33*a42+b3*a43*a12+b4*a13*a12))\n",
    "A3=((a12*a23*b4+a13*b2*a42+a22*a43*b1)-(b1*a23*a42+b2*a43*a12+b4*a13*a22))\n",
    "A4=((a12*a23*b3+a13*b2*a32+a22*a33*b1)-(b1*a23*a32+b2*a33*a12+b3*a13*a22))\n",
    "\n",
    "Determinante=(a11*A1-a21*A2+a31*A3-a41*A4)\n",
    "\n",
    "print (\"determinante =\",(Determinante));\n"
   ]
  },
  {
   "cell_type": "code",
   "execution_count": null,
   "metadata": {
    "collapsed": true
   },
   "outputs": [],
   "source": []
  }
 ],
 "metadata": {
  "kernelspec": {
   "display_name": "Python 3",
   "language": "python",
   "name": "python3"
  },
  "language_info": {
   "codemirror_mode": {
    "name": "ipython",
    "version": 3
   },
   "file_extension": ".py",
   "mimetype": "text/x-python",
   "name": "python",
   "nbconvert_exporter": "python",
   "pygments_lexer": "ipython3",
   "version": "3.5.1"
  }
 },
 "nbformat": 4,
 "nbformat_minor": 0
}
