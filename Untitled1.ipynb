{
 "cells": [
  {
   "cell_type": "code",
   "execution_count": null,
   "metadata": {
    "collapsed": true
   },
   "outputs": [],
   "source": [
    "calcular f(6) de acuerdo con la ecuacion de la recta del metodo de \n",
    "regresion lineal por minimos cuadrados a partir de los siguientes \n",
    "datos\n",
    "X=[1,2,3,4,5]\n",
    "Y=[1,2,1.3,3.75,2.25]\n",
    "\n",
    "rta=3.335"
   ]
  },
  {
   "cell_type": "code",
   "execution_count": 41,
   "metadata": {
    "collapsed": false
   },
   "outputs": [
    {
     "name": "stdout",
     "output_type": "stream",
     "text": [
      "0.425\n",
      "0.785\n",
      "3.335\n"
     ]
    }
   ],
   "source": [
    "import numpy as np\n",
    "import math\n",
    "import pylab as plt\n",
    "A = np.array([[1,1], [2, 2], [3, 1.3], [4,3.75],[5,2.25]])\n",
    "x=[]\n",
    "a=0\n",
    "cont=0\n",
    "lo=0\n",
    "x2=0\n",
    "li2=0\n",
    "vx=[]\n",
    "vy=[]\n",
    "\n",
    "for l in range(2):\n",
    "    m=(A.size)/2\n",
    "\n",
    "    rr=int(m)\n",
    "\n",
    "    for k in range(rr):\n",
    "        lo=A[k,l]+lo\n",
    "        if l==0:\n",
    "            li2=(A[k,l]**2)+li2\n",
    "        if l==1:\n",
    "            x2=A[k,0]*A[k,1]+x2\n",
    "        if k==(rr-1):\n",
    "            x.append(lo)\n",
    "            \n",
    "            if l==1:\n",
    "                x.append(x2)\n",
    "                x.append(li2)\n",
    "            lo=0\n",
    "\n",
    "a2=((rr*x[3])-(x[0])**2)\n",
    "a1=((rr*x[2])-(x[0]*x[1]))/((rr*x[3])-(x[0])**2)\n",
    "a0=(x[1]/rr)-a1*(x[0]/rr)\n",
    "\n",
    "print (a1)\n",
    "print (a0)\n",
    "\n",
    "for k in range(7):\n",
    "    y=a0+a1*k\n",
    "print(y)\n"
   ]
  },
  {
   "cell_type": "code",
   "execution_count": null,
   "metadata": {
    "collapsed": true
   },
   "outputs": [],
   "source": [
    "usando la regla de cramer hallar x1,x2,x3 resolviendo el siguiente\n",
    "sistema de ecuaciones:\n",
    "    0.4x1+0.12x2-1.3x3=0.05\n",
    "    0.1x1-0.24x2+2x3=-0.32\n",
    "    0.3x1+1.6x2+0.3x3=0.15\n",
    "    \n",
    "rta=x1=-0.32601816\n",
    "    x2=0.17782101\n",
    "    x3=-0.12236057"
   ]
  },
  {
   "cell_type": "code",
   "execution_count": 3,
   "metadata": {
    "collapsed": false
   },
   "outputs": [
    {
     "name": "stdout",
     "output_type": "stream",
     "text": [
      "\n",
      "     | 0.05   0.12   -1.3 |\n",
      "     |-0.32  -0.24      2 |\n",
      "     | 0.15    1.6    0.3 |      0.50272\n",
      "X1 = |--------------------| ==> ------- = -0.326739\n",
      "            -1.5386             -1.5386\n",
      "\n",
      "     |  0.4   0.05   -1.3 |\n",
      "     |  0.1  -0.32      2 |\n",
      "     |  0.3   0.15    0.3 |      -0.2742\n",
      "X2 = |--------------------| ==> ------- = 0.178214\n",
      "            -1.5386             -1.5386\n",
      "\n",
      "     |  0.4   0.12   0.05 |\n",
      "     |  0.1  -0.24  -0.32 |\n",
      "     |  0.3    1.6   0.15 |     0.18868\n",
      "X3 = |--------------------| ==> ------- = -0.122631\n",
      "            -1.5386             -1.5386\n"
     ]
    }
   ],
   "source": [
    "a11,a12,a13,b1=0.4,0.12,-1.3,0.05\n",
    "a21,a22,a23,b2=0.1,-0.24,2,-0.32\n",
    "a31,a32,a33,b3=0.3,1.6,0.3,0.15\n",
    "X=[]\n",
    "\n",
    "A1,A2,A3=round(a22*a33-a32*a23,2),round(a21*a33-a31*a23,2),round(a21*a32-a31*a22,2)\n",
    "X11,X12,X13=round(a22*a33-a32*a23,4),round(b2*a33-b3*a23,4),round(b2*a32-b3*a22,4)\n",
    "X21,X22,X23=round(b2*a33-b3*a23,4),round(a21*a33-a31*a23,4),round(a21*b3-a31*b2,4)\n",
    "X31,X32,X33=round(a22*b3-a32*b2,4),round(a21*b3-a31*b2,4),round(a21*a32-a31*a22,4)\n",
    "Determinante=round(a11*A1-a12*A2+a13*A3,4)\n",
    "DeterminanteX1=round(b1*X11-a12*X12+a13*X13,6)\n",
    "DeterminanteX2=round(a11*X21-b1*X22+a13*X23,6)\n",
    "DeterminanteX3=round(a11*X31-a12*X32+b1*X33,6)\n",
    "\n",
    "print (\"\\n{0:5}|{1:5}  {2:5}  {3:5} |\".format(\"\",b1,a12,a13));\n",
    "print (\"{0:5}|{1:5}  {2:5}  {3:5} |\".format(\"\",b2,a22,a23));\n",
    "print (\"{0:5}|{1:5}  {2:5}  {3:5} |      {4:5}\".format(\"\",b3,a32,a33,DeterminanteX1));\n",
    "print (\"{0:5}|{1:5}| ==> {2:5} = {3:5}\".format(\"X1 =\",\"--------------------\",\"-------\",round(DeterminanteX1/Determinante,6)));\n",
    "print (\"{0:5} {1:5} {2:5}             {3:5}\".format(\"\",\"\",Determinante,Determinante));\n",
    "\n",
    "print (\"\\n{0:5}|{1:5}  {2:5}  {3:5} |\".format(\"\",a11,b1,a13));\n",
    "print (\"{0:5}|{1:5}  {2:5}  {3:5} |\".format(\"\",a21,b2,a23));\n",
    "print (\"{0:5}|{1:5}  {2:5}  {3:5} |      {4:5}\".format(\"\",a31,b3,a33,DeterminanteX2));\n",
    "print (\"{0:5}|{1:5}| ==> {2:5} = {3:5}\".format(\"X2 =\",\"--------------------\",\"-------\",round(DeterminanteX2/Determinante,6)));\n",
    "print (\"{0:5} {1:5} {2:5}             {3:5}\".format(\"\",\"\",Determinante,Determinante));\n",
    "\n",
    "print (\"\\n{0:5}|{1:5}  {2:5}  {3:5} |\".format(\"\",a11,a12,b1));\n",
    "print (\"{0:5}|{1:5}  {2:5}  {3:5} |\".format(\"\",a21,a22,b2));\n",
    "print (\"{0:5}|{1:5}  {2:5}  {3:5} |     {4:5}\".format(\"\",a31,a32,b3,DeterminanteX3));\n",
    "print (\"{0:5}|{1:5}| ==> {2:5} = {3:5}\".format(\"X3 =\",\"--------------------\",\"-------\",round(DeterminanteX3/Determinante,6)));\n",
    "print (\"{0:5} {1:5} {2:5}             {3:5}\".format(\"\",\"\",Determinante,Determinante));"
   ]
  },
  {
   "cell_type": "code",
   "execution_count": null,
   "metadata": {
    "collapsed": true
   },
   "outputs": [],
   "source": [
    "una tecnica para ajustar datos a una curva\n",
    "rta=interpolacion cuadratica"
   ]
  },
  {
   "cell_type": "code",
   "execution_count": null,
   "metadata": {
    "collapsed": true
   },
   "outputs": [],
   "source": [
    "el metodo para resolver sistemas de ecuaciones algebraicas lineales\n",
    "rta=gauss simple"
   ]
  },
  {
   "cell_type": "code",
   "execution_count": null,
   "metadata": {
    "collapsed": true
   },
   "outputs": [],
   "source": [
    "calcule e^x parax=3 mediante interpolacion lineal tomando x0=1 \n",
    "f(x0)=e^1 y x1=5 f(x1)=e^5\n",
    "\n",
    "rta=75.565720"
   ]
  },
  {
   "cell_type": "code",
   "execution_count": 16,
   "metadata": {
    "collapsed": false
   },
   "outputs": [
    {
     "name": "stdout",
     "output_type": "stream",
     "text": [
      "75.56572046551781\n"
     ]
    }
   ],
   "source": [
    "import numpy as np\n",
    "import math\n",
    "import pylab as plt\n",
    "\n",
    "x=[]\n",
    "y=[]\n",
    "z=[]\n",
    "vx=[]\n",
    "vy=[]\n",
    "vz=[]\n",
    "l=1.0;\n",
    "for l in range(1,4):\n",
    "    xf=math.exp(l)  \n",
    "    x.append(xf)\n",
    "    #print(xf,\"111\")\n",
    "l1=math.exp(1)#1  \n",
    "l6=math.exp(5)#5  \n",
    "\n",
    "l3=l1+((l6-l1)/(5-1))*(3-1)\n",
    "print(l3)\n",
    "y.append(l1)     \n",
    "y.append(l3) \n",
    "y.append(l6) \n",
    "#z.append(l1) \n",
    "#z.append(l22) \n",
    "#z.append(l4) \n",
    "plt.title(\"interpolacion lineal\")\n",
    "plt.grid(True)\n",
    "plt.axis([0,10,0,50])\n",
    "plt.ylabel('x2')\n",
    "plt.xlabel('x1')\n",
    "for k in range(1,4):\n",
    "    vx.append(k)\n",
    "for m in range(1,6):\n",
    "    if (m==1):\n",
    "        vy.append(m)\n",
    "        vz.append(m)\n",
    "    if (m==3):\n",
    "        vy.append(m)\n",
    "        vz.append(m)\n",
    "\n",
    "    if (m==5):\n",
    "        vy.append(m)\n",
    "\n",
    "plt.plot(vx,x,'g',linewidth=2,label='Valor verdadero')\n",
    "plt.plot(vy,y,'r--',linewidth=2,label='f(e(3))')\n",
    "#plt.plot(vz,z,'k--',linewidth=2,label='f(ln(4))')\n",
    "plt.legend(loc = 4)\n",
    "plt.show()"
   ]
  },
  {
   "cell_type": "code",
   "execution_count": null,
   "metadata": {
    "collapsed": true
   },
   "outputs": [],
   "source": [
    "que es la suma de los datos(yi) dividida entre los numeros de \n",
    "datos(n)\n",
    "\n",
    "media aritmetica"
   ]
  },
  {
   "cell_type": "code",
   "execution_count": null,
   "metadata": {
    "collapsed": true
   },
   "outputs": [],
   "source": [
    "calcular el coeficiente de correlacion entre los siguientes valores\n",
    "x=[1,2,3,4,5]\n",
    "y=[1,2,1.3,3.75,2.25]\n",
    "\n",
    "rta=0.62683275"
   ]
  },
  {
   "cell_type": "code",
   "execution_count": 10,
   "metadata": {
    "collapsed": false
   },
   "outputs": [
    {
     "name": "stdout",
     "output_type": "stream",
     "text": [
      "correlacion:  0.6268327489789575\n"
     ]
    }
   ],
   "source": [
    "import numpy as np\n",
    "import math\n",
    "import pylab as plt\n",
    "\n",
    "aa=[1,2,3,4,5]\n",
    "bb=[1,2,1.3,3.75,2.25]\n",
    "\n",
    "sumaa=0; sumab=0;sumaab=0; sumaaa=0; sumabb=0; \n",
    "for h in range(0,5,1):\n",
    "    \n",
    "    sumaa=sumaa+aa[h]\n",
    "    sumab=sumab+bb[h] \n",
    "    sumaab=sumaab+(aa[h]*bb[h])  \n",
    "    sumaaa=sumaaa+(aa[h]*aa[h]) \n",
    "    sumabb=sumabb+(bb[h]*bb[h])\n",
    "pp=math.sqrt((5*sumaaa)-(sumaa*sumaa))\n",
    "qq=math.sqrt((5*sumabb)-(sumab*sumab))\n",
    "r=((5*sumaab)-(sumaa*sumab))/(pp*qq)\n",
    "print (\"correlacion: \", r )\n",
    "\n"
   ]
  },
  {
   "cell_type": "code",
   "execution_count": null,
   "metadata": {
    "collapsed": true
   },
   "outputs": [],
   "source": [
    "cuan es el valor de la media aritmetica y la desviacion estadar de\n",
    "la siguiente secuencia de numeros\n",
    "x=[64,54.2,65.1,58.3,55.7,60.2,62.5,67.9,66.6,55.8,59.2]\n",
    "\n",
    "rta=60.8636363636 y 4.68364659796\n",
    "\n"
   ]
  },
  {
   "cell_type": "code",
   "execution_count": 25,
   "metadata": {
    "collapsed": false
   },
   "outputs": [
    {
     "name": "stdout",
     "output_type": "stream",
     "text": [
      "media 60.86363636363637\n",
      "desviaion estandar 4.683646597956068\n"
     ]
    }
   ],
   "source": [
    " import numpy as np\n",
    "import math\n",
    "valor=([64,54.2,65.1,58.3,55.7,60.2,62.5,67.9,66.6,55.8,59.2])\n",
    "cv=0\n",
    "sumatoria=0;\n",
    "media=0;\n",
    "varianza=0;\n",
    "deviacion=0 ;\n",
    "for i in range (11):\n",
    "    sumatoria=sumatoria+valor[i]\n",
    "media=sumatoria/11\n",
    "for j in range(11):\n",
    "    rango=0;\n",
    "    rango=math.pow(valor[j]-media,2)\n",
    "    varianza=varianza+rango\n",
    "varianza=varianza/10\n",
    "deviacion=math.sqrt(varianza)\n",
    "cv=deviacion/media\n",
    "print(\"media\",media)\n",
    "print(\"desviaion estandar\",deviacion)"
   ]
  },
  {
   "cell_type": "code",
   "execution_count": null,
   "metadata": {
    "collapsed": true
   },
   "outputs": [],
   "source": [
    "calcular los parametros a0 y a1 de la linea recta de l metodo de\n",
    "regresion lineal por minimos cuadrados a partir de los siguientes\n",
    "datos\n",
    "x=[1,2,3,4,5]\n",
    "y=[1,2,1.3,3.75,2.25]\n",
    "\n",
    "rta= 0.785 y 0.425\n"
   ]
  },
  {
   "cell_type": "code",
   "execution_count": 37,
   "metadata": {
    "collapsed": false
   },
   "outputs": [
    {
     "name": "stdout",
     "output_type": "stream",
     "text": [
      "0.425\n",
      "0.785\n"
     ]
    }
   ],
   "source": [
    "import numpy as np\n",
    "import math\n",
    "import pylab as plt\n",
    "A = np.array([[1,1], [2, 2], [3, 1.3], [4,3.75],[5,2.25]])\n",
    "x=[]\n",
    "a=0\n",
    "cont=0\n",
    "lo=0\n",
    "x2=0\n",
    "li2=0\n",
    "vx=[]\n",
    "vy=[]\n",
    "\n",
    "for l in range(2):\n",
    "    m=(A.size)/2\n",
    "\n",
    "    rr=int(m)\n",
    "\n",
    "    for k in range(rr):\n",
    "        lo=A[k,l]+lo\n",
    "        if l==0:\n",
    "            li2=(A[k,l]**2)+li2\n",
    "        if l==1:\n",
    "            x2=A[k,0]*A[k,1]+x2\n",
    "        if k==(rr-1):\n",
    "            x.append(lo)\n",
    "            \n",
    "            if l==1:\n",
    "                x.append(x2)\n",
    "                x.append(li2)\n",
    "            lo=0\n",
    "\n",
    "a2=((rr*x[3])-(x[0])**2)\n",
    "a1=((rr*x[2])-(x[0]*x[1]))/((rr*x[3])-(x[0])**2)\n",
    "a0=(x[1]/rr)-a1*(x[0]/rr)\n",
    "\n",
    "print (a1)\n",
    "print (a0)\n",
    "\n",
    "for k in range(7):\n",
    "    y=a0+a1*k\n"
   ]
  },
  {
   "cell_type": "code",
   "execution_count": null,
   "metadata": {
    "collapsed": true
   },
   "outputs": [],
   "source": [
    "calcule e^x parax=3 mediante interpolacion cuadratica tomando x0=2 \n",
    "f(x0)=e^2 y x1=4 f(x1)=e^4 y x2=5 f(x2)=e^5 \n",
    "\n",
    "rta=7.590116"
   ]
  },
  {
   "cell_type": "code",
   "execution_count": 16,
   "metadata": {
    "collapsed": false
   },
   "outputs": [
    {
     "name": "stdout",
     "output_type": "stream",
     "text": [
      "7.590115698595586\n"
     ]
    }
   ],
   "source": [
    "import numpy as np\n",
    "import math\n",
    "import pylab as plt\n",
    "b0=0;\n",
    "b1=0;\n",
    "b2=0;\n",
    "bf=0;\n",
    "xx=[];\n",
    "x=[]\n",
    "y=[]\n",
    "z=[]\n",
    "\n",
    "l0=math.exp(2) \n",
    "l4=math.exp(4) \n",
    "l5=math.exp(5) \n",
    "b0=l0\n",
    "b1=(l4-l0)/(4-2)\n",
    "b2=(((l5-l4)/(5-4))-b1)/(5-2)\n",
    "l2=b0+b1*(3-2)+b2*(3-2)*(3-4)\n",
    "\n",
    "print(l2)\n"
   ]
  },
  {
   "cell_type": "code",
   "execution_count": null,
   "metadata": {
    "collapsed": true
   },
   "outputs": [],
   "source": [
    "calcula rlos valores del determinante para la siguiente matriz de \n",
    "tamaño 3x3 A=[[4,5,6],[11,0,3],[7,9,2]]\n",
    "\n",
    "rta=481"
   ]
  },
  {
   "cell_type": "code",
   "execution_count": 19,
   "metadata": {
    "collapsed": false
   },
   "outputs": [
    {
     "name": "stdout",
     "output_type": "stream",
     "text": [
      "determinante= 481\n"
     ]
    }
   ],
   "source": [
    "a=[4,5,6],[11,0,3],[7,9,2]\n",
    "a1=((a[1][1]*a[2][2])-(a[1][2]*a[2][1]))*a[0][0]\n",
    "a2=(a[1][0]*a[2][2]-a[1][2]*a[2][0])*a[0][1]\n",
    "a3=(a[1][0]*a[2][1]-a[1][1]*a[2][0])*a[0][2]\n",
    "determinante=a1-a2+a3\n",
    "print (\"determinante=\",determinante)"
   ]
  },
  {
   "cell_type": "code",
   "execution_count": null,
   "metadata": {
    "collapsed": true
   },
   "outputs": [],
   "source": [
    "x=[1,2,3,4,5,6,7,8,9,10]\n",
    "y=[0.8,1.4,0.6,3.9,7.8,6.1,0.3,7.7,2.3,8.9]\n",
    "\n",
    "1: calcular la funcion de la recta correspondiente por regresion\n",
    "    lineal usando el metodo de minimos cuadrados\n",
    "2: graficar los puntos y la recta de la regresion lineal \n",
    "3: calcular el coeficiente de correlacion para los mismos puntos \n",
    "    en x del modelo de la regresion lineal y los valores medios\n",
    "4: calcular el valor de f(x)para x=1.5 por medio de interpolaion\n",
    "    lineal usando los valores de x0=1 y x1=2\n",
    "    "
   ]
  },
  {
   "cell_type": "code",
   "execution_count": 13,
   "metadata": {
    "collapsed": false
   },
   "outputs": [
    {
     "name": "stdout",
     "output_type": "stream",
     "text": [
      "a1= 0.619394 \n",
      "a0= 0.573333 \n",
      "Coeficiente de correlacion : 0.557882\n",
      "El valor de f(x) para x=1.5 por medio de interpolación linea es: 1.100000\n"
     ]
    }
   ],
   "source": [
    "import numpy as np\n",
    "import matplotlib.pyplot as plt\n",
    "import pylab as pl\n",
    "\n",
    "def Media(Arr):\n",
    "    n=10\n",
    "    x = 0.0\n",
    "    aux = 0.0\n",
    "    suma = 0.0\n",
    "    for i in range(n):\n",
    "        aux = Arr[i]\n",
    "        suma = suma + aux\n",
    "    x = suma/n\n",
    "    return x\n",
    "\n",
    "a0=0.0\n",
    "a1=0.0\n",
    "real=[0.8,1.4,0.6,3.9,7.8,6.1,0.3,7.7,2.3,8.9]\n",
    "x=[1.0,2.0,3.0,4.0,5.0,6.0,7.0,8.0,9.0,10.0]\n",
    "def regreLine(a,b): \n",
    "    n=10\n",
    "    xy=0.0\n",
    "    xr=0.0\n",
    "    y=0.0\n",
    "    x2=0.0 \n",
    "    y2=0.0\n",
    "    a1=0.0\n",
    "    a0=0.0\n",
    "    r=0.0    \n",
    "    for i in range(0,10):\n",
    "        xy=xy + a[i]*b[i]\n",
    "\n",
    "    for i in range(0,10):\n",
    "        xr=xr+a[i]\n",
    "        y=y+b[i]\n",
    "    \n",
    "    for i in range(0,10):\n",
    "        x2=x2 + ((a[i])**2)\n",
    "        y2=y2 + ((b[i])**2)\n",
    "   \n",
    "    a1= (n*xy-xr*y)/(n*x2-xr**2)\n",
    "    a0= Media(b) - a1*Media(a)  \n",
    " \n",
    "    print( \"a1= %f \" % a1)\n",
    "    print (\"a0= %f \" % a0)\n",
    "    RL=[]\n",
    "    for i in range(10):\n",
    "        f=a0 + a1*a[i]\n",
    "        RL.append(f)\n",
    "    \n",
    "    pl.plot(a,RL,'--',label=\"Regresion\")\n",
    "    pl.plot(a,b,'o',label=\"Funcion Real\")\n",
    "    pl.legend(loc=\"lower right\")\n",
    "    pl.xlabel(\"Valores en x\")\n",
    "    pl.ylabel(\"Funcion en x\")\n",
    "    pl.title(\"Pregunta 12\")\n",
    "    pl.grid(True)\n",
    "    pl.show()\n",
    "    \n",
    "    r=(n*xy-xr*y)/(np.sqrt((n*x2-xr**2))*np.sqrt((n*y2-y**2)))\n",
    "    print (\"Coeficiente de correlacion : %f\" % r)\n",
    "    \n",
    "regreLine(x,real)\n",
    "\n",
    "\n",
    "\n",
    "re1=0.8+((1.4-0.8)/(2-1))*(1.5-1)\n",
    "print (\"El valor de f(x) para x=1.5 por medio de interpolación linea es: %f\" % re1)\n"
   ]
  },
  {
   "cell_type": "code",
   "execution_count": null,
   "metadata": {
    "collapsed": true
   },
   "outputs": [],
   "source": []
  }
 ],
 "metadata": {
  "kernelspec": {
   "display_name": "Python 3",
   "language": "python",
   "name": "python3"
  },
  "language_info": {
   "codemirror_mode": {
    "name": "ipython",
    "version": 3
   },
   "file_extension": ".py",
   "mimetype": "text/x-python",
   "name": "python",
   "nbconvert_exporter": "python",
   "pygments_lexer": "ipython3",
   "version": "3.5.1"
  }
 },
 "nbformat": 4,
 "nbformat_minor": 0
}
